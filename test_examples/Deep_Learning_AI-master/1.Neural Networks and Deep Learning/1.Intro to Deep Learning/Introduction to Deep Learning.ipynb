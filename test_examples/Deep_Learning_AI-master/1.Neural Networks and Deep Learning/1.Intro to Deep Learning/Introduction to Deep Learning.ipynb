{
 "cells": [
  {
   "cell_type": "markdown",
   "metadata": {},
   "source": [
    "# Introduction to Deep Learning "
   ]
  },
  {
   "cell_type": "markdown",
   "metadata": {},
   "source": [
    "## What is a neural network?"
   ]
  },
  {
   "cell_type": "markdown",
   "metadata": {},
   "source": [
    "Deep learning refers to training neural network. But what is a neural network?\n",
    "\n",
    "A neural network is simply a function that fits some data. The simplest form a neural network is a single neuron. It can take multiple inputs, but it will only fit one function, and generate one output.\n",
    "\n",
    "![Image](https://www.researchgate.net/profile/Ravi_Singh100/publication/307173547/figure/fig1/AS:400319998644225@1472455133744/Information-processing-by-a-single-neuron-in-Artificial-Neural-Network-ANN.png)\n",
    "\n",
    "Now, we can think of a neuron as a building block of a neural network. By combining multiple neurons, we can now build a neural network.\n",
    "\n",
    "![Image](https://cdn-images-1.medium.com/max/1200/1*RGV6Bb3ChmVWsA8Q6Qth6Q.png)\n",
    "\n",
    "Notice how each input is fed to each neuron. The neural network will figure out by itself which function is the best to fit the inputs to some data. All we need to provide are the inputs. We say this network is *density connected* because each feature is fed to each node."
   ]
  },
  {
   "cell_type": "markdown",
   "metadata": {},
   "source": [
    "## Supervised learning with neural networks"
   ]
  },
  {
   "cell_type": "markdown",
   "metadata": {},
   "source": [
    "Neural networks have been succefully applied in many supervised learning scenarios such as:\n",
    "- online advertising\n",
    "- photo tagging\n",
    "- speech recognition\n",
    "- machine translation\n",
    "- autonomous driving"
   ]
  },
  {
   "cell_type": "markdown",
   "metadata": {},
   "source": [
    "## Why deep learning?"
   ]
  },
  {
   "cell_type": "markdown",
   "metadata": {},
   "source": [
    "The performance of traditional machine learning algorithms will stall, no matter how much data is available. On the other hand, very large neural networks will show an increasingly better performance as the available amount of data increases. Nowadays, data storage is cheaper, and the popularity of websites and smartphones allow to generate a large amount of data! That's why deep learning is so exciting right now."
   ]
  },
  {
   "cell_type": "code",
   "execution_count": null,
   "metadata": {},
   "outputs": [],
   "source": []
  }
 ],
 "metadata": {
  "kernelspec": {
   "display_name": "Python 3",
   "language": "python",
   "name": "python3"
  },
  "language_info": {
   "codemirror_mode": {
    "name": "ipython",
    "version": 3
   },
   "file_extension": ".py",
   "mimetype": "text/x-python",
   "name": "python",
   "nbconvert_exporter": "python",
   "pygments_lexer": "ipython3",
   "version": "3.6.6"
  }
 },
 "nbformat": 4,
 "nbformat_minor": 2
}
