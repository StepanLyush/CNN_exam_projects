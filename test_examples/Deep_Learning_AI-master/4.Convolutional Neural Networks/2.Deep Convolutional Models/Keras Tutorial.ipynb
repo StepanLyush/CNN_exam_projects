{
 "cells": [
  {
   "cell_type": "markdown",
   "metadata": {},
   "source": [
    "# Keras Tutorial"
   ]
  },
  {
   "cell_type": "code",
   "execution_count": 1,
   "metadata": {},
   "outputs": [
    {
     "name": "stderr",
     "output_type": "stream",
     "text": [
      "C:\\Users\\PEIM001\\AppData\\Local\\Continuum\\anaconda3\\lib\\site-packages\\h5py\\__init__.py:72: UserWarning: h5py is running against HDF5 1.10.2 when it was built against 1.10.3, this may cause problems\n",
      "  '{0}.{1}.{2}'.format(*version.hdf5_built_version_tuple)\n",
      "Using TensorFlow backend.\n"
     ]
    }
   ],
   "source": [
    "import numpy as np\n",
    "from keras import layers\n",
    "from keras.layers import Input, Dense, Activation, ZeroPadding2D, BatchNormalization, Flatten, Conv2D\n",
    "from keras.layers import AveragePooling2D, MaxPooling2D, Dropout, GlobalMaxPooling2D, GlobalAveragePooling2D\n",
    "from keras.models import Model\n",
    "from keras.preprocessing import image\n",
    "from keras.utils import layer_utils\n",
    "from keras.utils.data_utils import get_file\n",
    "from keras.applications.imagenet_utils import preprocess_input\n",
    "import pydot\n",
    "from IPython.display import SVG\n",
    "from keras.utils.vis_utils import model_to_dot\n",
    "from keras.utils import plot_model\n",
    "from kt_utils import *\n",
    "\n",
    "import keras.backend as K\n",
    "K.set_image_data_format('channels_last')\n",
    "import matplotlib.pyplot as plt\n",
    "from matplotlib.pyplot import imshow\n",
    "\n",
    "%matplotlib inline"
   ]
  },
  {
   "cell_type": "code",
   "execution_count": 2,
   "metadata": {},
   "outputs": [
    {
     "name": "stdout",
     "output_type": "stream",
     "text": [
      "number of training examples = 600\n",
      "number of test examples = 150\n",
      "X_train shape: (600, 64, 64, 3)\n",
      "Y_train shape: (600, 1)\n",
      "X_test shape: (150, 64, 64, 3)\n",
      "Y_test shape: (150, 1)\n"
     ]
    }
   ],
   "source": [
    "X_train_orig, Y_train_orig, X_test_orig, Y_test_orig, classes = load_dataset()\n",
    "\n",
    "# Normalize image vectors\n",
    "X_train = X_train_orig/255.\n",
    "X_test = X_test_orig/255.\n",
    "\n",
    "# Reshape\n",
    "Y_train = Y_train_orig.T\n",
    "Y_test = Y_test_orig.T\n",
    "\n",
    "print (\"number of training examples = \" + str(X_train.shape[0]))\n",
    "print (\"number of test examples = \" + str(X_test.shape[0]))\n",
    "print (\"X_train shape: \" + str(X_train.shape))\n",
    "print (\"Y_train shape: \" + str(Y_train.shape))\n",
    "print (\"X_test shape: \" + str(X_test.shape))\n",
    "print (\"Y_test shape: \" + str(Y_test.shape))"
   ]
  },
  {
   "cell_type": "markdown",
   "metadata": {},
   "source": [
    "## Building a model in Keras"
   ]
  },
  {
   "cell_type": "code",
   "execution_count": 3,
   "metadata": {},
   "outputs": [],
   "source": [
    "def HappyModel(input_shape):\n",
    "    \n",
    "    # Define input placeholder\n",
    "    X_input = Input(input_shape)\n",
    "    \n",
    "    # Zero-padding\n",
    "    X = ZeroPadding2D((3, 3))(X_input)\n",
    "    \n",
    "    #CONV -> Batch Norm -> ReLU\n",
    "    X = Conv2D(32, (7, 7), strides=(1, 1), name='conv0')(X)\n",
    "    X = BatchNormalization(axis=3, name='bn0')(X)\n",
    "    X = Activation('relu')(X)\n",
    "    \n",
    "    # Maxpool\n",
    "    X = MaxPooling2D((2, 2), name='max_pool')(X)\n",
    "    \n",
    "    # Flatten X\n",
    "    X = Flatten()(X)\n",
    "    \n",
    "    #Fully-connected layer\n",
    "    X = Dense(1, activation='sigmoid', name='fc')(X)\n",
    "    \n",
    "    # Create model\n",
    "    model = Model(inputs=X_input, outputs=X, name='HappyModel')\n",
    "    \n",
    "    return model"
   ]
  },
  {
   "cell_type": "code",
   "execution_count": 4,
   "metadata": {},
   "outputs": [],
   "source": [
    "happyModel = HappyModel(X_train.shape[1:])"
   ]
  },
  {
   "cell_type": "code",
   "execution_count": 5,
   "metadata": {},
   "outputs": [],
   "source": [
    "happyModel.compile('adam', 'binary_crossentropy', metrics=['accuracy'])"
   ]
  },
  {
   "cell_type": "code",
   "execution_count": 6,
   "metadata": {},
   "outputs": [
    {
     "name": "stdout",
     "output_type": "stream",
     "text": [
      "Epoch 1/40\n",
      "600/600 [==============================] - 8s 13ms/step - loss: 3.1503 - acc: 0.5533\n",
      "Epoch 2/40\n",
      "600/600 [==============================] - 7s 12ms/step - loss: 0.6343 - acc: 0.7517\n",
      "Epoch 3/40\n",
      "600/600 [==============================] - 7s 12ms/step - loss: 0.2947 - acc: 0.8750\n",
      "Epoch 4/40\n",
      "600/600 [==============================] - 7s 12ms/step - loss: 0.2663 - acc: 0.8683\n",
      "Epoch 5/40\n",
      "600/600 [==============================] - 7s 12ms/step - loss: 0.2008 - acc: 0.9167\n",
      "Epoch 6/40\n",
      "600/600 [==============================] - 7s 12ms/step - loss: 0.2248 - acc: 0.9067\n",
      "Epoch 7/40\n",
      "600/600 [==============================] - 8s 13ms/step - loss: 0.1735 - acc: 0.9300\n",
      "Epoch 8/40\n",
      "600/600 [==============================] - 8s 13ms/step - loss: 0.1036 - acc: 0.9650\n",
      "Epoch 9/40\n",
      "600/600 [==============================] - 8s 13ms/step - loss: 0.1141 - acc: 0.9550\n",
      "Epoch 10/40\n",
      "600/600 [==============================] - 8s 13ms/step - loss: 0.0920 - acc: 0.9717\n",
      "Epoch 11/40\n",
      "600/600 [==============================] - 7s 12ms/step - loss: 0.0977 - acc: 0.9650\n",
      "Epoch 12/40\n",
      "600/600 [==============================] - 8s 13ms/step - loss: 0.0799 - acc: 0.9750\n",
      "Epoch 13/40\n",
      "600/600 [==============================] - 9s 15ms/step - loss: 0.0682 - acc: 0.9850\n",
      "Epoch 14/40\n",
      "600/600 [==============================] - 9s 14ms/step - loss: 0.0571 - acc: 0.9867\n",
      "Epoch 15/40\n",
      "600/600 [==============================] - 8s 14ms/step - loss: 0.0575 - acc: 0.9817\n",
      "Epoch 16/40\n",
      "600/600 [==============================] - 8s 14ms/step - loss: 0.0657 - acc: 0.9800\n",
      "Epoch 17/40\n",
      "600/600 [==============================] - 8s 14ms/step - loss: 0.0579 - acc: 0.9867\n",
      "Epoch 18/40\n",
      "600/600 [==============================] - 8s 14ms/step - loss: 0.0554 - acc: 0.9850\n",
      "Epoch 19/40\n",
      "600/600 [==============================] - 8s 14ms/step - loss: 0.1630 - acc: 0.9283\n",
      "Epoch 20/40\n",
      "600/600 [==============================] - 8s 14ms/step - loss: 0.1385 - acc: 0.9517\n",
      "Epoch 21/40\n",
      "600/600 [==============================] - 8s 14ms/step - loss: 0.0904 - acc: 0.9633\n",
      "Epoch 22/40\n",
      "600/600 [==============================] - 8s 14ms/step - loss: 0.0628 - acc: 0.9800\n",
      "Epoch 23/40\n",
      "600/600 [==============================] - 9s 15ms/step - loss: 0.0514 - acc: 0.9883\n",
      "Epoch 24/40\n",
      "600/600 [==============================] - 9s 15ms/step - loss: 0.0332 - acc: 0.9883\n",
      "Epoch 25/40\n",
      "600/600 [==============================] - 9s 15ms/step - loss: 0.0307 - acc: 0.9900\n",
      "Epoch 26/40\n",
      "600/600 [==============================] - 9s 15ms/step - loss: 0.0279 - acc: 0.9933\n",
      "Epoch 27/40\n",
      "600/600 [==============================] - 9s 15ms/step - loss: 0.0314 - acc: 0.9933\n",
      "Epoch 28/40\n",
      "600/600 [==============================] - 9s 15ms/step - loss: 0.0377 - acc: 0.9833\n",
      "Epoch 29/40\n",
      "600/600 [==============================] - 9s 15ms/step - loss: 0.0225 - acc: 0.9900\n",
      "Epoch 30/40\n",
      "600/600 [==============================] - 10s 16ms/step - loss: 0.0310 - acc: 0.9900\n",
      "Epoch 31/40\n",
      "600/600 [==============================] - 10s 16ms/step - loss: 0.0368 - acc: 0.9900\n",
      "Epoch 32/40\n",
      "600/600 [==============================] - 10s 17ms/step - loss: 0.0280 - acc: 0.9900\n",
      "Epoch 33/40\n",
      "600/600 [==============================] - 10s 16ms/step - loss: 0.0253 - acc: 0.9917\n",
      "Epoch 34/40\n",
      "600/600 [==============================] - 10s 17ms/step - loss: 0.0284 - acc: 0.9917\n",
      "Epoch 35/40\n",
      "600/600 [==============================] - 10s 17ms/step - loss: 0.0377 - acc: 0.9917\n",
      "Epoch 36/40\n",
      "600/600 [==============================] - 10s 17ms/step - loss: 0.0298 - acc: 0.9883\n",
      "Epoch 37/40\n",
      "600/600 [==============================] - 10s 17ms/step - loss: 0.0232 - acc: 0.9933\n",
      "Epoch 38/40\n",
      "600/600 [==============================] - 11s 18ms/step - loss: 0.0243 - acc: 0.9917\n",
      "Epoch 39/40\n",
      "600/600 [==============================] - 10s 17ms/step - loss: 0.0239 - acc: 0.9883\n",
      "Epoch 40/40\n",
      "600/600 [==============================] - 9s 16ms/step - loss: 0.0413 - acc: 0.9833\n"
     ]
    },
    {
     "data": {
      "text/plain": [
       "<keras.callbacks.History at 0x285ab6ed4a8>"
      ]
     },
     "execution_count": 6,
     "metadata": {},
     "output_type": "execute_result"
    }
   ],
   "source": [
    "happyModel.fit(X_train, Y_train, epochs=40, batch_size=50)"
   ]
  },
  {
   "cell_type": "code",
   "execution_count": 7,
   "metadata": {},
   "outputs": [
    {
     "name": "stdout",
     "output_type": "stream",
     "text": [
      "150/150 [==============================] - 1s 4ms/step\n",
      "\n",
      "Loss = 0.5057704842090607\n",
      "Test Accuracy = 0.8133333325386047\n"
     ]
    }
   ],
   "source": [
    "preds = happyModel.evaluate(X_test, Y_test, batch_size=32, verbose=1, sample_weight=None)\n",
    "\n",
    "print()\n",
    "print (\"Loss = \" + str(preds[0]))\n",
    "print (\"Test Accuracy = \" + str(preds[1]))"
   ]
  },
  {
   "cell_type": "code",
   "execution_count": 8,
   "metadata": {},
   "outputs": [
    {
     "name": "stdout",
     "output_type": "stream",
     "text": [
      "_________________________________________________________________\n",
      "Layer (type)                 Output Shape              Param #   \n",
      "=================================================================\n",
      "input_1 (InputLayer)         (None, 64, 64, 3)         0         \n",
      "_________________________________________________________________\n",
      "zero_padding2d_1 (ZeroPaddin (None, 70, 70, 3)         0         \n",
      "_________________________________________________________________\n",
      "conv0 (Conv2D)               (None, 64, 64, 32)        4736      \n",
      "_________________________________________________________________\n",
      "bn0 (BatchNormalization)     (None, 64, 64, 32)        128       \n",
      "_________________________________________________________________\n",
      "activation_1 (Activation)    (None, 64, 64, 32)        0         \n",
      "_________________________________________________________________\n",
      "max_pool (MaxPooling2D)      (None, 32, 32, 32)        0         \n",
      "_________________________________________________________________\n",
      "flatten_1 (Flatten)          (None, 32768)             0         \n",
      "_________________________________________________________________\n",
      "fc (Dense)                   (None, 1)                 32769     \n",
      "=================================================================\n",
      "Total params: 37,633\n",
      "Trainable params: 37,569\n",
      "Non-trainable params: 64\n",
      "_________________________________________________________________\n"
     ]
    }
   ],
   "source": [
    "happyModel.summary()"
   ]
  },
  {
   "cell_type": "code",
   "execution_count": 9,
   "metadata": {},
   "outputs": [
    {
     "data": {
      "image/svg+xml": [
       "<svg height=\"556pt\" viewBox=\"0.00 0.00 225.00 556.00\" width=\"225pt\" xmlns=\"http://www.w3.org/2000/svg\" xmlns:xlink=\"http://www.w3.org/1999/xlink\">\n",
       "<g class=\"graph\" id=\"graph0\" transform=\"scale(1 1) rotate(0) translate(4 552)\">\n",
       "<title>G</title>\n",
       "<polygon fill=\"white\" points=\"-4,4 -4,-552 221,-552 221,4 -4,4\" stroke=\"none\"/>\n",
       "<!-- 2773124602176 -->\n",
       "<g class=\"node\" id=\"node1\"><title>2773124602176</title>\n",
       "<polygon fill=\"none\" points=\"45.5,-511.5 45.5,-547.5 171.5,-547.5 171.5,-511.5 45.5,-511.5\" stroke=\"black\"/>\n",
       "<text font-family=\"Times New Roman,serif\" font-size=\"14.00\" text-anchor=\"middle\" x=\"108.5\" y=\"-525.8\">input_1: InputLayer</text>\n",
       "</g>\n",
       "<!-- 2773124764112 -->\n",
       "<g class=\"node\" id=\"node2\"><title>2773124764112</title>\n",
       "<polygon fill=\"none\" points=\"0,-438.5 0,-474.5 217,-474.5 217,-438.5 0,-438.5\" stroke=\"black\"/>\n",
       "<text font-family=\"Times New Roman,serif\" font-size=\"14.00\" text-anchor=\"middle\" x=\"108.5\" y=\"-452.8\">zero_padding2d_1: ZeroPadding2D</text>\n",
       "</g>\n",
       "<!-- 2773124602176&#45;&gt;2773124764112 -->\n",
       "<g class=\"edge\" id=\"edge1\"><title>2773124602176-&gt;2773124764112</title>\n",
       "<path d=\"M108.5,-511.313C108.5,-503.289 108.5,-493.547 108.5,-484.569\" fill=\"none\" stroke=\"black\"/>\n",
       "<polygon fill=\"black\" points=\"112,-484.529 108.5,-474.529 105,-484.529 112,-484.529\" stroke=\"black\"/>\n",
       "</g>\n",
       "<!-- 2773124766856 -->\n",
       "<g class=\"node\" id=\"node3\"><title>2773124766856</title>\n",
       "<polygon fill=\"none\" points=\"56,-365.5 56,-401.5 161,-401.5 161,-365.5 56,-365.5\" stroke=\"black\"/>\n",
       "<text font-family=\"Times New Roman,serif\" font-size=\"14.00\" text-anchor=\"middle\" x=\"108.5\" y=\"-379.8\">conv0: Conv2D</text>\n",
       "</g>\n",
       "<!-- 2773124764112&#45;&gt;2773124766856 -->\n",
       "<g class=\"edge\" id=\"edge2\"><title>2773124764112-&gt;2773124766856</title>\n",
       "<path d=\"M108.5,-438.313C108.5,-430.289 108.5,-420.547 108.5,-411.569\" fill=\"none\" stroke=\"black\"/>\n",
       "<polygon fill=\"black\" points=\"112,-411.529 108.5,-401.529 105,-411.529 112,-411.529\" stroke=\"black\"/>\n",
       "</g>\n",
       "<!-- 2773124448944 -->\n",
       "<g class=\"node\" id=\"node4\"><title>2773124448944</title>\n",
       "<polygon fill=\"none\" points=\"31.5,-292.5 31.5,-328.5 185.5,-328.5 185.5,-292.5 31.5,-292.5\" stroke=\"black\"/>\n",
       "<text font-family=\"Times New Roman,serif\" font-size=\"14.00\" text-anchor=\"middle\" x=\"108.5\" y=\"-306.8\">bn0: BatchNormalization</text>\n",
       "</g>\n",
       "<!-- 2773124766856&#45;&gt;2773124448944 -->\n",
       "<g class=\"edge\" id=\"edge3\"><title>2773124766856-&gt;2773124448944</title>\n",
       "<path d=\"M108.5,-365.313C108.5,-357.289 108.5,-347.547 108.5,-338.569\" fill=\"none\" stroke=\"black\"/>\n",
       "<polygon fill=\"black\" points=\"112,-338.529 108.5,-328.529 105,-338.529 112,-338.529\" stroke=\"black\"/>\n",
       "</g>\n",
       "<!-- 2773124449952 -->\n",
       "<g class=\"node\" id=\"node5\"><title>2773124449952</title>\n",
       "<polygon fill=\"none\" points=\"34.5,-219.5 34.5,-255.5 182.5,-255.5 182.5,-219.5 34.5,-219.5\" stroke=\"black\"/>\n",
       "<text font-family=\"Times New Roman,serif\" font-size=\"14.00\" text-anchor=\"middle\" x=\"108.5\" y=\"-233.8\">activation_1: Activation</text>\n",
       "</g>\n",
       "<!-- 2773124448944&#45;&gt;2773124449952 -->\n",
       "<g class=\"edge\" id=\"edge4\"><title>2773124448944-&gt;2773124449952</title>\n",
       "<path d=\"M108.5,-292.313C108.5,-284.289 108.5,-274.547 108.5,-265.569\" fill=\"none\" stroke=\"black\"/>\n",
       "<polygon fill=\"black\" points=\"112,-265.529 108.5,-255.529 105,-265.529 112,-265.529\" stroke=\"black\"/>\n",
       "</g>\n",
       "<!-- 2773036741520 -->\n",
       "<g class=\"node\" id=\"node6\"><title>2773036741520</title>\n",
       "<polygon fill=\"none\" points=\"26.5,-146.5 26.5,-182.5 190.5,-182.5 190.5,-146.5 26.5,-146.5\" stroke=\"black\"/>\n",
       "<text font-family=\"Times New Roman,serif\" font-size=\"14.00\" text-anchor=\"middle\" x=\"108.5\" y=\"-160.8\">max_pool: MaxPooling2D</text>\n",
       "</g>\n",
       "<!-- 2773124449952&#45;&gt;2773036741520 -->\n",
       "<g class=\"edge\" id=\"edge5\"><title>2773124449952-&gt;2773036741520</title>\n",
       "<path d=\"M108.5,-219.313C108.5,-211.289 108.5,-201.547 108.5,-192.569\" fill=\"none\" stroke=\"black\"/>\n",
       "<polygon fill=\"black\" points=\"112,-192.529 108.5,-182.529 105,-192.529 112,-192.529\" stroke=\"black\"/>\n",
       "</g>\n",
       "<!-- 2773127047992 -->\n",
       "<g class=\"node\" id=\"node7\"><title>2773127047992</title>\n",
       "<polygon fill=\"none\" points=\"54,-73.5 54,-109.5 163,-109.5 163,-73.5 54,-73.5\" stroke=\"black\"/>\n",
       "<text font-family=\"Times New Roman,serif\" font-size=\"14.00\" text-anchor=\"middle\" x=\"108.5\" y=\"-87.8\">flatten_1: Flatten</text>\n",
       "</g>\n",
       "<!-- 2773036741520&#45;&gt;2773127047992 -->\n",
       "<g class=\"edge\" id=\"edge6\"><title>2773036741520-&gt;2773127047992</title>\n",
       "<path d=\"M108.5,-146.313C108.5,-138.289 108.5,-128.547 108.5,-119.569\" fill=\"none\" stroke=\"black\"/>\n",
       "<polygon fill=\"black\" points=\"112,-119.529 108.5,-109.529 105,-119.529 112,-119.529\" stroke=\"black\"/>\n",
       "</g>\n",
       "<!-- 2772905266536 -->\n",
       "<g class=\"node\" id=\"node8\"><title>2772905266536</title>\n",
       "<polygon fill=\"none\" points=\"74,-0.5 74,-36.5 143,-36.5 143,-0.5 74,-0.5\" stroke=\"black\"/>\n",
       "<text font-family=\"Times New Roman,serif\" font-size=\"14.00\" text-anchor=\"middle\" x=\"108.5\" y=\"-14.8\">fc: Dense</text>\n",
       "</g>\n",
       "<!-- 2773127047992&#45;&gt;2772905266536 -->\n",
       "<g class=\"edge\" id=\"edge7\"><title>2773127047992-&gt;2772905266536</title>\n",
       "<path d=\"M108.5,-73.3129C108.5,-65.2895 108.5,-55.5475 108.5,-46.5691\" fill=\"none\" stroke=\"black\"/>\n",
       "<polygon fill=\"black\" points=\"112,-46.5288 108.5,-36.5288 105,-46.5289 112,-46.5288\" stroke=\"black\"/>\n",
       "</g>\n",
       "</g>\n",
       "</svg>"
      ],
      "text/plain": [
       "<IPython.core.display.SVG object>"
      ]
     },
     "execution_count": 9,
     "metadata": {},
     "output_type": "execute_result"
    }
   ],
   "source": [
    "plot_model(happyModel, to_file='HappyModel.png')\n",
    "SVG(model_to_dot(happyModel).create(prog='dot', format='svg'))"
   ]
  },
  {
   "cell_type": "code",
   "execution_count": null,
   "metadata": {},
   "outputs": [],
   "source": []
  }
 ],
 "metadata": {
  "kernelspec": {
   "display_name": "Python 3",
   "language": "python",
   "name": "python3"
  },
  "language_info": {
   "codemirror_mode": {
    "name": "ipython",
    "version": 3
   },
   "file_extension": ".py",
   "mimetype": "text/x-python",
   "name": "python",
   "nbconvert_exporter": "python",
   "pygments_lexer": "ipython3",
   "version": "3.6.6"
  }
 },
 "nbformat": 4,
 "nbformat_minor": 2
}
