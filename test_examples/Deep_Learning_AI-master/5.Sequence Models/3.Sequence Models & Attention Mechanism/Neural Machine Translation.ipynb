{
 "cells": [
  {
   "cell_type": "markdown",
   "metadata": {},
   "source": [
    "# Neural Machine Translation"
   ]
  },
  {
   "cell_type": "code",
   "execution_count": 1,
   "metadata": {},
   "outputs": [
    {
     "name": "stderr",
     "output_type": "stream",
     "text": [
      "C:\\Users\\PEIM001\\AppData\\Local\\Continuum\\anaconda3\\lib\\site-packages\\h5py\\__init__.py:72: UserWarning: h5py is running against HDF5 1.10.2 when it was built against 1.10.3, this may cause problems\n",
      "  '{0}.{1}.{2}'.format(*version.hdf5_built_version_tuple)\n",
      "Using TensorFlow backend.\n"
     ]
    }
   ],
   "source": [
    "from keras.layers import Bidirectional, Concatenate, Permute, Dot, Input, LSTM, Multiply\n",
    "from keras.layers import RepeatVector, Dense, Activation, Lambda\n",
    "from keras.optimizers import Adam\n",
    "from keras.utils import to_categorical\n",
    "from keras.models import load_model, Model\n",
    "import keras.backend as K\n",
    "import numpy as np\n",
    "\n",
    "from faker import Faker\n",
    "import random\n",
    "from tqdm import tqdm\n",
    "from babel.dates import format_date\n",
    "from nmt_utils import *\n",
    "import matplotlib.pyplot as plt\n",
    "%matplotlib inline"
   ]
  },
  {
   "cell_type": "markdown",
   "metadata": {},
   "source": [
    "## Dataset"
   ]
  },
  {
   "cell_type": "code",
   "execution_count": 2,
   "metadata": {},
   "outputs": [
    {
     "name": "stderr",
     "output_type": "stream",
     "text": [
      "100%|██████████████████████████████████████████████████████████████████████████████████████████████████████| 10000/10000 [00:00<00:00, 25484.49it/s]\n"
     ]
    }
   ],
   "source": [
    "m = 10000\n",
    "dataset, human_vocab, machine_vocab, inv_machine_vocab = load_dataset(m)"
   ]
  },
  {
   "cell_type": "code",
   "execution_count": 3,
   "metadata": {},
   "outputs": [
    {
     "data": {
      "text/plain": [
       "[('9 may 1998', '1998-05-09'),\n",
       " ('10.09.70', '1970-09-10'),\n",
       " ('4/28/90', '1990-04-28'),\n",
       " ('thursday january 26 1995', '1995-01-26'),\n",
       " ('monday march 7 1983', '1983-03-07'),\n",
       " ('sunday may 22 1988', '1988-05-22'),\n",
       " ('tuesday july 8 2008', '2008-07-08'),\n",
       " ('08 sep 1999', '1999-09-08'),\n",
       " ('1 jan 1981', '1981-01-01'),\n",
       " ('monday may 22 1995', '1995-05-22')]"
      ]
     },
     "execution_count": 3,
     "metadata": {},
     "output_type": "execute_result"
    }
   ],
   "source": [
    "dataset[:10]"
   ]
  },
  {
   "cell_type": "code",
   "execution_count": 4,
   "metadata": {},
   "outputs": [
    {
     "name": "stdout",
     "output_type": "stream",
     "text": [
      "X.shape: (10000, 30)\n",
      "Y.shape: (10000, 10)\n",
      "Xoh.shape: (10000, 30, 37)\n",
      "Yoh.shape: (10000, 10, 11)\n"
     ]
    }
   ],
   "source": [
    "Tx = 30\n",
    "Ty = 10\n",
    "X, Y, Xoh, Yoh = preprocess_data(dataset, human_vocab, machine_vocab, Tx, Ty)\n",
    "\n",
    "print(\"X.shape:\", X.shape)\n",
    "print(\"Y.shape:\", Y.shape)\n",
    "print(\"Xoh.shape:\", Xoh.shape)\n",
    "print(\"Yoh.shape:\", Yoh.shape)"
   ]
  },
  {
   "cell_type": "code",
   "execution_count": 5,
   "metadata": {},
   "outputs": [
    {
     "name": "stdout",
     "output_type": "stream",
     "text": [
      "Source date: 9 may 1998\n",
      "Target date: 1998-05-09\n",
      "\n",
      "Source after preprocessing (indices): [12  0 24 13 34  0  4 12 12 11 36 36 36 36 36 36 36 36 36 36 36 36 36 36\n",
      " 36 36 36 36 36 36]\n",
      "Target after preprocessing (indices): [ 2 10 10  9  0  1  6  0  1 10]\n",
      "\n",
      "Source after preprocessing (one-hot): [[0. 0. 0. ... 0. 0. 0.]\n",
      " [1. 0. 0. ... 0. 0. 0.]\n",
      " [0. 0. 0. ... 0. 0. 0.]\n",
      " ...\n",
      " [0. 0. 0. ... 0. 0. 1.]\n",
      " [0. 0. 0. ... 0. 0. 1.]\n",
      " [0. 0. 0. ... 0. 0. 1.]]\n",
      "Target after preprocessing (one-hot): [[0. 0. 1. 0. 0. 0. 0. 0. 0. 0. 0.]\n",
      " [0. 0. 0. 0. 0. 0. 0. 0. 0. 0. 1.]\n",
      " [0. 0. 0. 0. 0. 0. 0. 0. 0. 0. 1.]\n",
      " [0. 0. 0. 0. 0. 0. 0. 0. 0. 1. 0.]\n",
      " [1. 0. 0. 0. 0. 0. 0. 0. 0. 0. 0.]\n",
      " [0. 1. 0. 0. 0. 0. 0. 0. 0. 0. 0.]\n",
      " [0. 0. 0. 0. 0. 0. 1. 0. 0. 0. 0.]\n",
      " [1. 0. 0. 0. 0. 0. 0. 0. 0. 0. 0.]\n",
      " [0. 1. 0. 0. 0. 0. 0. 0. 0. 0. 0.]\n",
      " [0. 0. 0. 0. 0. 0. 0. 0. 0. 0. 1.]]\n"
     ]
    }
   ],
   "source": [
    "index = 0\n",
    "print(\"Source date:\", dataset[index][0])\n",
    "print(\"Target date:\", dataset[index][1])\n",
    "print()\n",
    "print(\"Source after preprocessing (indices):\", X[index])\n",
    "print(\"Target after preprocessing (indices):\", Y[index])\n",
    "print()\n",
    "print(\"Source after preprocessing (one-hot):\", Xoh[index])\n",
    "print(\"Target after preprocessing (one-hot):\", Yoh[index])"
   ]
  },
  {
   "cell_type": "markdown",
   "metadata": {},
   "source": [
    "## Neural machine translation with attention"
   ]
  },
  {
   "cell_type": "code",
   "execution_count": 6,
   "metadata": {},
   "outputs": [],
   "source": [
    "# Defined shared layers as global variables\n",
    "repeator = RepeatVector(Tx)\n",
    "concatenator = Concatenate(axis=-1)\n",
    "densor1 = Dense(10, activation = \"tanh\")\n",
    "densor2 = Dense(1, activation = \"relu\")\n",
    "activator = Activation(softmax, name='attention_weights') # We are using a custom softmax(axis = 1) loaded in this notebook\n",
    "dotor = Dot(axes = 1)"
   ]
  },
  {
   "cell_type": "code",
   "execution_count": 7,
   "metadata": {},
   "outputs": [],
   "source": [
    "def one_step_attention(a, s_prev):\n",
    "    \n",
    "    # Use repeator to repeat s_prev to be of shape (m, Tx, n_s) so that you can concatenate it with all hidden states \"a\"\n",
    "    s_prev = repeator(s_prev)\n",
    "    \n",
    "    # Use concatenator to concatenate a and s_prev on the last axis\n",
    "    concat = concatenator([a, s_prev])\n",
    "    \n",
    "    # Use densor1 to propagate concat through a small fully-connected neural network to compute the \"intermediate energies\" variable e\n",
    "    e = densor1(concat)\n",
    "    \n",
    "    # Use densor2 to propagate e through a small fully-connected neural network to compute the \"energies\" variable energies\n",
    "    energies = densor2(e)\n",
    "    \n",
    "    # Use \"activator\" on \"energies\" to compute the attention weights \"alphas\"\n",
    "    alphas = activator(energies)\n",
    "    \n",
    "    # Use dotor together with \"alphas\" and \"a\" to compute the context vector to be given to the next (post-attention) LSTM-cell\n",
    "    context = dotor([alphas, a])\n",
    "        \n",
    "    return context"
   ]
  },
  {
   "cell_type": "code",
   "execution_count": 8,
   "metadata": {},
   "outputs": [],
   "source": [
    "n_a = 32\n",
    "n_s = 64\n",
    "post_activation_LSTM_cell = LSTM(n_s, return_state = True)\n",
    "output_layer = Dense(len(machine_vocab), activation=softmax)"
   ]
  },
  {
   "cell_type": "code",
   "execution_count": 9,
   "metadata": {},
   "outputs": [],
   "source": [
    "def model(Tx, Ty, n_a, n_s, human_vocab_size, machine_vocab_size):\n",
    "    \n",
    "    # Define the inputs of your model with a shape (Tx,)\n",
    "    # Define s0 and c0, initial hidden state for the decoder LSTM of shape (n_s,)\n",
    "    X = Input(shape=(Tx, human_vocab_size))\n",
    "    s0 = Input(shape=(n_s,), name='s0')\n",
    "    c0 = Input(shape=(n_s,), name='c0')\n",
    "    s = s0\n",
    "    c = c0\n",
    "    \n",
    "    # Initialize empty list of outputs\n",
    "    outputs = []\n",
    "      \n",
    "    # Step 1: Define your pre-attention Bi-LSTM. Remember to use return_sequences=True\n",
    "    a = Bidirectional(LSTM(n_a, return_sequences=True))(X)\n",
    "    \n",
    "    # Step 2: Iterate for Ty steps\n",
    "    for t in range(Ty):\n",
    "    \n",
    "        # Step 2.A: Perform one step of the attention mechanism to get back the context vector at step t\n",
    "        context = one_step_attention(a, s)\n",
    "        \n",
    "        # Step 2.B: Apply the post-attention LSTM cell to the \"context\" vector.\n",
    "        # Don't forget to pass: initial_state = [hidden state, cell state]\n",
    "        s, _, c = post_activation_LSTM_cell(context, initial_state = [s,c])\n",
    "        \n",
    "        # Step 2.C: Apply Dense layer to the hidden state output of the post-attention LSTM\n",
    "        out = output_layer(s)\n",
    "        \n",
    "        # Step 2.D: Append \"out\" to the \"outputs\" list\n",
    "        outputs.append(out)\n",
    "    \n",
    "    # Step 3: Create model instance taking three inputs and returning the list of outputs\n",
    "    model = Model(inputs=[X, s0, c0], outputs=outputs)\n",
    "    \n",
    "    return model"
   ]
  },
  {
   "cell_type": "code",
   "execution_count": 10,
   "metadata": {},
   "outputs": [],
   "source": [
    "# Create model\n",
    "model = model(Tx, Ty, n_a, n_s, len(human_vocab), len(machine_vocab))"
   ]
  },
  {
   "cell_type": "code",
   "execution_count": 11,
   "metadata": {},
   "outputs": [
    {
     "name": "stdout",
     "output_type": "stream",
     "text": [
      "__________________________________________________________________________________________________\n",
      "Layer (type)                    Output Shape         Param #     Connected to                     \n",
      "==================================================================================================\n",
      "input_1 (InputLayer)            (None, 30, 37)       0                                            \n",
      "__________________________________________________________________________________________________\n",
      "s0 (InputLayer)                 (None, 64)           0                                            \n",
      "__________________________________________________________________________________________________\n",
      "bidirectional_1 (Bidirectional) (None, 30, 64)       17920       input_1[0][0]                    \n",
      "__________________________________________________________________________________________________\n",
      "repeat_vector_1 (RepeatVector)  (None, 30, 64)       0           s0[0][0]                         \n",
      "                                                                 lstm_1[0][0]                     \n",
      "                                                                 lstm_1[1][0]                     \n",
      "                                                                 lstm_1[2][0]                     \n",
      "                                                                 lstm_1[3][0]                     \n",
      "                                                                 lstm_1[4][0]                     \n",
      "                                                                 lstm_1[5][0]                     \n",
      "                                                                 lstm_1[6][0]                     \n",
      "                                                                 lstm_1[7][0]                     \n",
      "                                                                 lstm_1[8][0]                     \n",
      "__________________________________________________________________________________________________\n",
      "concatenate_1 (Concatenate)     (None, 30, 128)      0           bidirectional_1[0][0]            \n",
      "                                                                 repeat_vector_1[0][0]            \n",
      "                                                                 bidirectional_1[0][0]            \n",
      "                                                                 repeat_vector_1[1][0]            \n",
      "                                                                 bidirectional_1[0][0]            \n",
      "                                                                 repeat_vector_1[2][0]            \n",
      "                                                                 bidirectional_1[0][0]            \n",
      "                                                                 repeat_vector_1[3][0]            \n",
      "                                                                 bidirectional_1[0][0]            \n",
      "                                                                 repeat_vector_1[4][0]            \n",
      "                                                                 bidirectional_1[0][0]            \n",
      "                                                                 repeat_vector_1[5][0]            \n",
      "                                                                 bidirectional_1[0][0]            \n",
      "                                                                 repeat_vector_1[6][0]            \n",
      "                                                                 bidirectional_1[0][0]            \n",
      "                                                                 repeat_vector_1[7][0]            \n",
      "                                                                 bidirectional_1[0][0]            \n",
      "                                                                 repeat_vector_1[8][0]            \n",
      "                                                                 bidirectional_1[0][0]            \n",
      "                                                                 repeat_vector_1[9][0]            \n",
      "__________________________________________________________________________________________________\n",
      "dense_1 (Dense)                 (None, 30, 10)       1290        concatenate_1[0][0]              \n",
      "                                                                 concatenate_1[1][0]              \n",
      "                                                                 concatenate_1[2][0]              \n",
      "                                                                 concatenate_1[3][0]              \n",
      "                                                                 concatenate_1[4][0]              \n",
      "                                                                 concatenate_1[5][0]              \n",
      "                                                                 concatenate_1[6][0]              \n",
      "                                                                 concatenate_1[7][0]              \n",
      "                                                                 concatenate_1[8][0]              \n",
      "                                                                 concatenate_1[9][0]              \n",
      "__________________________________________________________________________________________________\n",
      "dense_2 (Dense)                 (None, 30, 1)        11          dense_1[0][0]                    \n",
      "                                                                 dense_1[1][0]                    \n",
      "                                                                 dense_1[2][0]                    \n",
      "                                                                 dense_1[3][0]                    \n",
      "                                                                 dense_1[4][0]                    \n",
      "                                                                 dense_1[5][0]                    \n",
      "                                                                 dense_1[6][0]                    \n",
      "                                                                 dense_1[7][0]                    \n",
      "                                                                 dense_1[8][0]                    \n",
      "                                                                 dense_1[9][0]                    \n",
      "__________________________________________________________________________________________________\n",
      "attention_weights (Activation)  (None, 30, 1)        0           dense_2[0][0]                    \n",
      "                                                                 dense_2[1][0]                    \n",
      "                                                                 dense_2[2][0]                    \n",
      "                                                                 dense_2[3][0]                    \n",
      "                                                                 dense_2[4][0]                    \n",
      "                                                                 dense_2[5][0]                    \n",
      "                                                                 dense_2[6][0]                    \n",
      "                                                                 dense_2[7][0]                    \n",
      "                                                                 dense_2[8][0]                    \n",
      "                                                                 dense_2[9][0]                    \n",
      "__________________________________________________________________________________________________\n",
      "dot_1 (Dot)                     (None, 1, 64)        0           attention_weights[0][0]          \n",
      "                                                                 bidirectional_1[0][0]            \n",
      "                                                                 attention_weights[1][0]          \n",
      "                                                                 bidirectional_1[0][0]            \n",
      "                                                                 attention_weights[2][0]          \n",
      "                                                                 bidirectional_1[0][0]            \n",
      "                                                                 attention_weights[3][0]          \n",
      "                                                                 bidirectional_1[0][0]            \n"
     ]
    },
    {
     "name": "stdout",
     "output_type": "stream",
     "text": [
      "                                                                 attention_weights[4][0]          \n",
      "                                                                 bidirectional_1[0][0]            \n",
      "                                                                 attention_weights[5][0]          \n",
      "                                                                 bidirectional_1[0][0]            \n",
      "                                                                 attention_weights[6][0]          \n",
      "                                                                 bidirectional_1[0][0]            \n",
      "                                                                 attention_weights[7][0]          \n",
      "                                                                 bidirectional_1[0][0]            \n",
      "                                                                 attention_weights[8][0]          \n",
      "                                                                 bidirectional_1[0][0]            \n",
      "                                                                 attention_weights[9][0]          \n",
      "                                                                 bidirectional_1[0][0]            \n",
      "__________________________________________________________________________________________________\n",
      "c0 (InputLayer)                 (None, 64)           0                                            \n",
      "__________________________________________________________________________________________________\n",
      "lstm_1 (LSTM)                   [(None, 64), (None,  33024       dot_1[0][0]                      \n",
      "                                                                 s0[0][0]                         \n",
      "                                                                 c0[0][0]                         \n",
      "                                                                 dot_1[1][0]                      \n",
      "                                                                 lstm_1[0][0]                     \n",
      "                                                                 lstm_1[0][2]                     \n",
      "                                                                 dot_1[2][0]                      \n",
      "                                                                 lstm_1[1][0]                     \n",
      "                                                                 lstm_1[1][2]                     \n",
      "                                                                 dot_1[3][0]                      \n",
      "                                                                 lstm_1[2][0]                     \n",
      "                                                                 lstm_1[2][2]                     \n",
      "                                                                 dot_1[4][0]                      \n",
      "                                                                 lstm_1[3][0]                     \n",
      "                                                                 lstm_1[3][2]                     \n",
      "                                                                 dot_1[5][0]                      \n",
      "                                                                 lstm_1[4][0]                     \n",
      "                                                                 lstm_1[4][2]                     \n",
      "                                                                 dot_1[6][0]                      \n",
      "                                                                 lstm_1[5][0]                     \n",
      "                                                                 lstm_1[5][2]                     \n",
      "                                                                 dot_1[7][0]                      \n",
      "                                                                 lstm_1[6][0]                     \n",
      "                                                                 lstm_1[6][2]                     \n",
      "                                                                 dot_1[8][0]                      \n",
      "                                                                 lstm_1[7][0]                     \n",
      "                                                                 lstm_1[7][2]                     \n",
      "                                                                 dot_1[9][0]                      \n",
      "                                                                 lstm_1[8][0]                     \n",
      "                                                                 lstm_1[8][2]                     \n",
      "__________________________________________________________________________________________________\n",
      "dense_3 (Dense)                 (None, 11)           715         lstm_1[0][0]                     \n",
      "                                                                 lstm_1[1][0]                     \n",
      "                                                                 lstm_1[2][0]                     \n",
      "                                                                 lstm_1[3][0]                     \n",
      "                                                                 lstm_1[4][0]                     \n",
      "                                                                 lstm_1[5][0]                     \n",
      "                                                                 lstm_1[6][0]                     \n",
      "                                                                 lstm_1[7][0]                     \n",
      "                                                                 lstm_1[8][0]                     \n",
      "                                                                 lstm_1[9][0]                     \n",
      "==================================================================================================\n",
      "Total params: 52,960\n",
      "Trainable params: 52,960\n",
      "Non-trainable params: 0\n",
      "__________________________________________________________________________________________________\n"
     ]
    }
   ],
   "source": [
    "# Model summary\n",
    "model.summary()"
   ]
  },
  {
   "cell_type": "code",
   "execution_count": 12,
   "metadata": {},
   "outputs": [],
   "source": [
    "opt = Adam(lr=0.005, beta_1=0.9, beta_2=0.999, decay=0.01)\n",
    "model.compile(loss='categorical_crossentropy', optimizer=opt, metrics=['accuracy'])"
   ]
  },
  {
   "cell_type": "code",
   "execution_count": 13,
   "metadata": {},
   "outputs": [],
   "source": [
    "# Define inputs\n",
    "s0 = np.zeros((m, n_s))\n",
    "c0 = np.zeros((m, n_s))\n",
    "outputs = list(Yoh.swapaxes(0,1))"
   ]
  },
  {
   "cell_type": "code",
   "execution_count": 14,
   "metadata": {},
   "outputs": [
    {
     "name": "stdout",
     "output_type": "stream",
     "text": [
      "Epoch 1/1\n"
     ]
    },
    {
     "name": "stdout",
     "output_type": "stream",
     "text": [
      " 2800/10000 [=======>......................] - ETA: 14:31 - loss: 24.0342 - dense_3_loss: 2.3957 - dense_3_acc: 0.0000e+00 - dense_3_acc_1: 0.0000e+00 - dense_3_acc_2: 0.1400 - dense_3_acc_3: 0.1000 - dense_3_acc_4: 0.0000e+00 - dense_3_acc_5: 0.0000e+00 - dense_3_acc_6: 0.0900 - dense_3_acc_7: 0.0000e+00 - dense_3_acc_8: 0.0000e+00 - dense_3_acc_9: 0.10 - ETA: 7:14 - loss: 23.8318 - dense_3_loss: 2.4042 - dense_3_acc: 0.0000e+00 - dense_3_acc_1: 0.0000e+00 - dense_3_acc_2: 0.0700 - dense_3_acc_3: 0.0500 - dense_3_acc_4: 0.5000 - dense_3_acc_5: 0.0000e+00 - dense_3_acc_6: 0.0450 - dense_3_acc_7: 0.5000 - dense_3_acc_8: 0.0000e+00 - dense_3_acc_9: 0.0500         - ETA: 4:49 - loss: 23.6346 - dense_3_loss: 2.4215 - dense_3_acc: 0.0000e+00 - dense_3_acc_1: 0.0000e+00 - dense_3_acc_2: 0.0467 - dense_3_acc_3: 0.0333 - dense_3_acc_4: 0.6667 - dense_3_acc_5: 0.0000e+00 - dense_3_acc_6: 0.0300 - dense_3_acc_7: 0.6667 - dense_3_acc_8: 0.0000e+00 - dense_3_acc_9: 0.033 - ETA: 3:37 - loss: 23.3835 - dense_3_loss: 2.4527 - dense_3_acc: 0.0000e+00 - dense_3_acc_1: 0.0000e+00 - dense_3_acc_2: 0.0350 - dense_3_acc_3: 0.0250 - dense_3_acc_4: 0.7500 - dense_3_acc_5: 0.0000e+00 - dense_3_acc_6: 0.0225 - dense_3_acc_7: 0.7500 - dense_3_acc_8: 0.0000e+00 - dense_3_acc_9: 0.025 - ETA: 2:53 - loss: 23.1218 - dense_3_loss: 2.5262 - dense_3_acc: 0.0000e+00 - dense_3_acc_1: 0.0000e+00 - dense_3_acc_2: 0.0280 - dense_3_acc_3: 0.0200 - dense_3_acc_4: 0.8000 - dense_3_acc_5: 0.0000e+00 - dense_3_acc_6: 0.0180 - dense_3_acc_7: 0.8000 - dense_3_acc_8: 0.0000e+00 - dense_3_acc_9: 0.020 - ETA: 2:24 - loss: 22.9809 - dense_3_loss: 2.6208 - dense_3_acc: 0.0000e+00 - dense_3_acc_1: 0.0000e+00 - dense_3_acc_2: 0.0233 - dense_3_acc_3: 0.0167 - dense_3_acc_4: 0.8333 - dense_3_acc_5: 0.0000e+00 - dense_3_acc_6: 0.0150 - dense_3_acc_7: 0.8333 - dense_3_acc_8: 0.0000e+00 - dense_3_acc_9: 0.016 - ETA: 2:03 - loss: 22.7901 - dense_3_loss: 2.6703 - dense_3_acc: 0.0000e+00 - dense_3_acc_1: 0.0000e+00 - dense_3_acc_2: 0.0200 - dense_3_acc_3: 0.0143 - dense_3_acc_4: 0.8571 - dense_3_acc_5: 0.0000e+00 - dense_3_acc_6: 0.0129 - dense_3_acc_7: 0.8571 - dense_3_acc_8: 0.0000e+00 - dense_3_acc_9: 0.014 - ETA: 1:47 - loss: 22.6487 - dense_3_loss: 2.7046 - dense_3_acc: 0.0000e+00 - dense_3_acc_1: 0.0500 - dense_3_acc_2: 0.0450 - dense_3_acc_3: 0.0263 - dense_3_acc_4: 0.7525 - dense_3_acc_5: 0.0913 - dense_3_acc_6: 0.0188 - dense_3_acc_7: 0.7500 - dense_3_acc_8: 0.0350 - dense_3_acc_9: 0.0225            - ETA: 1:35 - loss: 22.5497 - dense_3_loss: 2.7205 - dense_3_acc: 0.0000e+00 - dense_3_acc_1: 0.0878 - dense_3_acc_2: 0.0589 - dense_3_acc_3: 0.0311 - dense_3_acc_4: 0.6689 - dense_3_acc_5: 0.1678 - dense_3_acc_6: 0.0244 - dense_3_acc_7: 0.6667 - dense_3_acc_8: 0.0644 - dense_3_acc_9: 0.030 - ETA: 1:25 - loss: 22.4520 - dense_3_loss: 2.7296 - dense_3_acc: 0.0000e+00 - dense_3_acc_1: 0.1190 - dense_3_acc_2: 0.0750 - dense_3_acc_3: 0.0420 - dense_3_acc_4: 0.6020 - dense_3_acc_5: 0.2190 - dense_3_acc_6: 0.0340 - dense_3_acc_7: 0.6000 - dense_3_acc_8: 0.0870 - dense_3_acc_9: 0.036 - ETA: 1:17 - loss: 22.3657 - dense_3_loss: 2.7278 - dense_3_acc: 0.0000e+00 - dense_3_acc_1: 0.1482 - dense_3_acc_2: 0.0909 - dense_3_acc_3: 0.0491 - dense_3_acc_4: 0.5473 - dense_3_acc_5: 0.2673 - dense_3_acc_6: 0.0336 - dense_3_acc_7: 0.5455 - dense_3_acc_8: 0.0991 - dense_3_acc_9: 0.043 - ETA: 1:11 - loss: 22.2991 - dense_3_loss: 2.7329 - dense_3_acc: 0.0000e+00 - dense_3_acc_1: 0.1700 - dense_3_acc_2: 0.0992 - dense_3_acc_3: 0.0517 - dense_3_acc_4: 0.5025 - dense_3_acc_5: 0.3092 - dense_3_acc_6: 0.0342 - dense_3_acc_7: 0.5225 - dense_3_acc_8: 0.1033 - dense_3_acc_9: 0.042 - ETA: 1:05 - loss: 22.2299 - dense_3_loss: 2.7467 - dense_3_acc: 0.0000e+00 - dense_3_acc_1: 0.1808 - dense_3_acc_2: 0.1015 - dense_3_acc_3: 0.0508 - dense_3_acc_4: 0.5385 - dense_3_acc_5: 0.2854 - dense_3_acc_6: 0.0315 - dense_3_acc_7: 0.5592 - dense_3_acc_8: 0.0954 - dense_3_acc_9: 0.039 - ETA: 1:00 - loss: 22.1429 - dense_3_loss: 2.7463 - dense_3_acc: 0.0000e+00 - dense_3_acc_1: 0.1857 - dense_3_acc_2: 0.0943 - dense_3_acc_3: 0.0471 - dense_3_acc_4: 0.5714 - dense_3_acc_5: 0.2650 - dense_3_acc_6: 0.0293 - dense_3_acc_7: 0.5907 - dense_3_acc_8: 0.0886 - dense_3_acc_9: 0.036 - ETA: 56s - loss: 22.0832 - dense_3_loss: 2.7627 - dense_3_acc: 0.0000e+00 - dense_3_acc_1: 0.1787 - dense_3_acc_2: 0.0880 - dense_3_acc_3: 0.0440 - dense_3_acc_4: 0.6000 - dense_3_acc_5: 0.2473 - dense_3_acc_6: 0.0273 - dense_3_acc_7: 0.6180 - dense_3_acc_8: 0.0827 - dense_3_acc_9: 0.034 - ETA: 52s - loss: 22.0274 - dense_3_loss: 2.7765 - dense_3_acc: 0.0000e+00 - dense_3_acc_1: 0.1725 - dense_3_acc_2: 0.0825 - dense_3_acc_3: 0.0412 - dense_3_acc_4: 0.6250 - dense_3_acc_5: 0.2319 - dense_3_acc_6: 0.0256 - dense_3_acc_7: 0.6419 - dense_3_acc_8: 0.0775 - dense_3_acc_9: 0.03 - ETA: 49s - loss: 21.9661 - dense_3_loss: 2.7798 - dense_3_acc: 0.0000e+00 - dense_3_acc_1: 0.1735 - dense_3_acc_2: 0.0776 - dense_3_acc_3: 0.0388 - dense_3_acc_4: 0.6471 - dense_3_acc_5: 0.2182 - dense_3_acc_6: 0.0241 - dense_3_acc_7: 0.6629 - dense_3_acc_8: 0.0729 - dense_3_acc_9: 0.03 - ETA: 46s - loss: 21.8942 - dense_3_loss: 2.7802 - dense_3_acc: 0.0000e+00 - dense_3_acc_1: 0.1867 - dense_3_acc_2: 0.0733 - dense_3_acc_3: 0.0367 - dense_3_acc_4: 0.6667 - dense_3_acc_5: 0.2061 - dense_3_acc_6: 0.0228 - dense_3_acc_7: 0.6817 - dense_3_acc_8: 0.0689 - dense_3_acc_9: 0.02 - ETA: 44s - loss: 21.8434 - dense_3_loss: 2.7834 - dense_3_acc: 0.0000e+00 - dense_3_acc_1: 0.1989 - dense_3_acc_2: 0.0795 - dense_3_acc_3: 0.0347 - dense_3_acc_4: 0.6842 - dense_3_acc_5: 0.1953 - dense_3_acc_6: 0.0216 - dense_3_acc_7: 0.6984 - dense_3_acc_8: 0.0653 - dense_3_acc_9: 0.02 - ETA: 41s - loss: 21.7893 - dense_3_loss: 2.7820 - dense_3_acc: 0.0000e+00 - dense_3_acc_1: 0.2100 - dense_3_acc_2: 0.0855 - dense_3_acc_3: 0.0345 - dense_3_acc_4: 0.7000 - dense_3_acc_5: 0.1855 - dense_3_acc_6: 0.0205 - dense_3_acc_7: 0.7135 - dense_3_acc_8: 0.0620 - dense_3_acc_9: 0.02 - ETA: 39s - loss: 21.7492 - dense_3_loss: 2.7886 - dense_3_acc: 0.0000e+00 - dense_3_acc_1: 0.2186 - dense_3_acc_2: 0.0938 - dense_3_acc_3: 0.0381 - dense_3_acc_4: 0.7143 - dense_3_acc_5: 0.1767 - dense_3_acc_6: 0.0195 - dense_3_acc_7: 0.7271 - dense_3_acc_8: 0.0590 - dense_3_acc_9: 0.02 - ETA: 37s - loss: 21.6946 - dense_3_loss: 2.7845 - dense_3_acc: 0.0000e+00 - dense_3_acc_1: 0.2236 - dense_3_acc_2: 0.0973 - dense_3_acc_3: 0.0432 - dense_3_acc_4: 0.7082 - dense_3_acc_5: 0.1686 - dense_3_acc_6: 0.0186 - dense_3_acc_7: 0.7395 - dense_3_acc_8: 0.0564 - dense_3_acc_9: 0.02 - ETA: 35s - loss: 21.6465 - dense_3_loss: 2.7817 - dense_3_acc: 0.0000e+00 - dense_3_acc_1: 0.2283 - dense_3_acc_2: 0.1004 - dense_3_acc_3: 0.0448 - dense_3_acc_4: 0.6796 - dense_3_acc_5: 0.1613 - dense_3_acc_6: 0.0178 - dense_3_acc_7: 0.7509 - dense_3_acc_8: 0.0539 - dense_3_acc_9: 0.02 - ETA: 33s - loss: 21.6027 - dense_3_loss: 2.7823 - dense_3_acc: 0.0000e+00 - dense_3_acc_1: 0.2437 - dense_3_acc_2: 0.1029 - dense_3_acc_3: 0.0467 - dense_3_acc_4: 0.6513 - dense_3_acc_5: 0.1858 - dense_3_acc_6: 0.0171 - dense_3_acc_7: 0.7613 - dense_3_acc_8: 0.0517 - dense_3_acc_9: 0.02 - ETA: 32s - loss: 21.5535 - dense_3_loss: 2.7783 - dense_3_acc: 0.0000e+00 - dense_3_acc_1: 0.2612 - dense_3_acc_2: 0.1060 - dense_3_acc_3: 0.0496 - dense_3_acc_4: 0.6252 - dense_3_acc_5: 0.2080 - dense_3_acc_6: 0.0180 - dense_3_acc_7: 0.7708 - dense_3_acc_8: 0.0496 - dense_3_acc_9: 0.02 - ETA: 30s - loss: 21.5065 - dense_3_loss: 2.7772 - dense_3_acc: 0.0000e+00 - dense_3_acc_1: 0.2735 - dense_3_acc_2: 0.1112 - dense_3_acc_3: 0.0508 - dense_3_acc_4: 0.6012 - dense_3_acc_5: 0.2004 - dense_3_acc_6: 0.0173 - dense_3_acc_7: 0.7796 - dense_3_acc_8: 0.0477 - dense_3_acc_9: 0.02 - ETA: 29s - loss: 21.4652 - dense_3_loss: 2.7751 - dense_3_acc: 0.0000e+00 - dense_3_acc_1: 0.2867 - dense_3_acc_2: 0.1189 - dense_3_acc_3: 0.0511 - dense_3_acc_4: 0.6159 - dense_3_acc_5: 0.1930 - dense_3_acc_6: 0.0167 - dense_3_acc_7: 0.7878 - dense_3_acc_8: 0.0459 - dense_3_acc_9: 0.02 - ETA: 28s - loss: 21.4179 - dense_3_loss: 2.7693 - dense_3_acc: 0.0000e+00 - dense_3_acc_1: 0.2993 - dense_3_acc_2: 0.1225 - dense_3_acc_3: 0.0521 - dense_3_acc_4: 0.6296 - dense_3_acc_5: 0.1861 - dense_3_acc_6: 0.0161 - dense_3_acc_7: 0.7954 - dense_3_acc_8: 0.0443 - dense_3_acc_9: 0.0293\b\b\b\b\b\b\b\b\b\b\b\b\b\b\b\b\b\b\b\b\b\b\b\b\b\b\b\b\b\b\b\b\b\b\b\b\b\b\b\b\b\b\b\b\b\b\b\b\b\b\b\b\b\b\b\b\b\b\b\b\b\b\b\b\b\b\b\b\b\b\b\b\b\b\b\b\b\b\b\b\b\b\b\b\b\b\b\b\b\b\b\b\b\b\b\b\b\b\b\b\b\b\b\b\b\b\b\b\b\b\b\b\b\b\b\b\b\b\b\b\b\b\b\b\b\b\b\b\b\b\b\b\b\b\b\b\b\b\b\b\b\b\b\b\b\b\b\b\b\b\b\b\b\b\b\b\b\b\b\b\b\b\b\b\b\b\b\b\b\b\b\b\b\b\b\b\b\b\b\b\b\b\b\b\b\b\b\b\b\b\b\b\b\b\b\b\b\b\b\b\b\b\b\b\b\b\b\b\b\b\b\b\b\b\b\b\b\b\b\b\b\b\b\b\b\b\b\b\b\b\b\b\b\b\b\b\b\b\b\b\b\b\b\b\b\b\b\b\b\b\b\b\b\b\b\b\b\b\b\b\b\b\b\b\b\b\b\b\b\b\b\b\b\b\b\b\b\b\b\b\b\b\b\b\b\b\b\b\b\b\b\b\b\b\b\b\b\b\b\b\b\b\b\b\b\b\b\b\b\b\b\b\b\b\b\b\b\b\b\b\b\b\b\b\b\b\b\b\b\b\b\b\b\b\b\b"
     ]
    },
    {
     "name": "stdout",
     "output_type": "stream",
     "text": [
      " 5700/10000 [================>.............] - ETA: 27s - loss: 21.3792 - dense_3_loss: 2.7684 - dense_3_acc: 0.0000e+00 - dense_3_acc_1: 0.3124 - dense_3_acc_2: 0.1252 - dense_3_acc_3: 0.0531 - dense_3_acc_4: 0.6424 - dense_3_acc_5: 0.1797 - dense_3_acc_6: 0.0155 - dense_3_acc_7: 0.8024 - dense_3_acc_8: 0.0428 - dense_3_acc_9: 0.03 - ETA: 26s - loss: 21.3245 - dense_3_loss: 2.7677 - dense_3_acc: 0.0000e+00 - dense_3_acc_1: 0.3247 - dense_3_acc_2: 0.1297 - dense_3_acc_3: 0.0543 - dense_3_acc_4: 0.6543 - dense_3_acc_5: 0.1737 - dense_3_acc_6: 0.0150 - dense_3_acc_7: 0.8090 - dense_3_acc_8: 0.0413 - dense_3_acc_9: 0.02 - ETA: 24s - loss: 21.2822 - dense_3_loss: 2.7663 - dense_3_acc: 0.0000e+00 - dense_3_acc_1: 0.3332 - dense_3_acc_2: 0.1303 - dense_3_acc_3: 0.0565 - dense_3_acc_4: 0.6655 - dense_3_acc_5: 0.1681 - dense_3_acc_6: 0.0145 - dense_3_acc_7: 0.8152 - dense_3_acc_8: 0.0400 - dense_3_acc_9: 0.02 - ETA: 23s - loss: 21.2293 - dense_3_loss: 2.7640 - dense_3_acc: 0.0000e+00 - dense_3_acc_1: 0.3453 - dense_3_acc_2: 0.1347 - dense_3_acc_3: 0.0547 - dense_3_acc_4: 0.6759 - dense_3_acc_5: 0.1628 - dense_3_acc_6: 0.0141 - dense_3_acc_7: 0.8209 - dense_3_acc_8: 0.0388 - dense_3_acc_9: 0.03 - ETA: 23s - loss: 21.1875 - dense_3_loss: 2.7624 - dense_3_acc: 0.0000e+00 - dense_3_acc_1: 0.3545 - dense_3_acc_2: 0.1370 - dense_3_acc_3: 0.0530 - dense_3_acc_4: 0.6858 - dense_3_acc_5: 0.1579 - dense_3_acc_6: 0.0136 - dense_3_acc_7: 0.8264 - dense_3_acc_8: 0.0409 - dense_3_acc_9: 0.03 - ETA: 22s - loss: 21.1526 - dense_3_loss: 2.7617 - dense_3_acc: 0.0000e+00 - dense_3_acc_1: 0.3624 - dense_3_acc_2: 0.1400 - dense_3_acc_3: 0.0515 - dense_3_acc_4: 0.6950 - dense_3_acc_5: 0.1532 - dense_3_acc_6: 0.0132 - dense_3_acc_7: 0.8315 - dense_3_acc_8: 0.0424 - dense_3_acc_9: 0.03 - ETA: 21s - loss: 21.1122 - dense_3_loss: 2.7618 - dense_3_acc: 0.0000e+00 - dense_3_acc_1: 0.3700 - dense_3_acc_2: 0.1420 - dense_3_acc_3: 0.0517 - dense_3_acc_4: 0.7037 - dense_3_acc_5: 0.1489 - dense_3_acc_6: 0.0129 - dense_3_acc_7: 0.8363 - dense_3_acc_8: 0.0411 - dense_3_acc_9: 0.03 - ETA: 20s - loss: 21.0690 - dense_3_loss: 2.7593 - dense_3_acc: 0.0000e+00 - dense_3_acc_1: 0.3758 - dense_3_acc_2: 0.1456 - dense_3_acc_3: 0.0525 - dense_3_acc_4: 0.7119 - dense_3_acc_5: 0.1447 - dense_3_acc_6: 0.0125 - dense_3_acc_7: 0.8408 - dense_3_acc_8: 0.0400 - dense_3_acc_9: 0.03 - ETA: 19s - loss: 21.0205 - dense_3_loss: 2.7569 - dense_3_acc: 0.0000e+00 - dense_3_acc_1: 0.3814 - dense_3_acc_2: 0.1486 - dense_3_acc_3: 0.0543 - dense_3_acc_4: 0.7197 - dense_3_acc_5: 0.1408 - dense_3_acc_6: 0.0122 - dense_3_acc_7: 0.8451 - dense_3_acc_8: 0.0449 - dense_3_acc_9: 0.03 - ETA: 19s - loss: 20.9722 - dense_3_loss: 2.7567 - dense_3_acc: 0.0000e+00 - dense_3_acc_1: 0.3882 - dense_3_acc_2: 0.1532 - dense_3_acc_3: 0.0550 - dense_3_acc_4: 0.7271 - dense_3_acc_5: 0.1371 - dense_3_acc_6: 0.0118 - dense_3_acc_7: 0.8492 - dense_3_acc_8: 0.0524 - dense_3_acc_9: 0.03 - ETA: 18s - loss: 20.9309 - dense_3_loss: 2.7609 - dense_3_acc: 0.0000e+00 - dense_3_acc_1: 0.3926 - dense_3_acc_2: 0.1544 - dense_3_acc_3: 0.0562 - dense_3_acc_4: 0.7341 - dense_3_acc_5: 0.1336 - dense_3_acc_6: 0.0115 - dense_3_acc_7: 0.8531 - dense_3_acc_8: 0.0526 - dense_3_acc_9: 0.03 - ETA: 17s - loss: 20.8901 - dense_3_loss: 2.7611 - dense_3_acc: 0.0000e+00 - dense_3_acc_1: 0.3972 - dense_3_acc_2: 0.1545 - dense_3_acc_3: 0.0565 - dense_3_acc_4: 0.7408 - dense_3_acc_5: 0.1302 - dense_3_acc_6: 0.0112 - dense_3_acc_7: 0.8568 - dense_3_acc_8: 0.0528 - dense_3_acc_9: 0.04 - ETA: 17s - loss: 20.8431 - dense_3_loss: 2.7638 - dense_3_acc: 0.0000e+00 - dense_3_acc_1: 0.4049 - dense_3_acc_2: 0.1583 - dense_3_acc_3: 0.0580 - dense_3_acc_4: 0.7471 - dense_3_acc_5: 0.1271 - dense_3_acc_6: 0.0110 - dense_3_acc_7: 0.8500 - dense_3_acc_8: 0.0595 - dense_3_acc_9: 0.04 - ETA: 16s - loss: 20.8017 - dense_3_loss: 2.7636 - dense_3_acc: 0.0012 - dense_3_acc_1: 0.4093 - dense_3_acc_2: 0.1602 - dense_3_acc_3: 0.0583 - dense_3_acc_4: 0.7531 - dense_3_acc_5: 0.1240 - dense_3_acc_6: 0.0107 - dense_3_acc_7: 0.8486 - dense_3_acc_8: 0.0662 - dense_3_acc_9: 0.0445   - ETA: 16s - loss: 20.7612 - dense_3_loss: 2.7639 - dense_3_acc: 0.0133 - dense_3_acc_1: 0.4137 - dense_3_acc_2: 0.1616 - dense_3_acc_3: 0.0588 - dense_3_acc_4: 0.7588 - dense_3_acc_5: 0.1212 - dense_3_acc_6: 0.0105 - dense_3_acc_7: 0.8521 - dense_3_acc_8: 0.0651 - dense_3_acc_9: 0.04 - ETA: 15s - loss: 20.7169 - dense_3_loss: 2.7681 - dense_3_acc: 0.0280 - dense_3_acc_1: 0.4193 - dense_3_acc_2: 0.1627 - dense_3_acc_3: 0.0593 - dense_3_acc_4: 0.7643 - dense_3_acc_5: 0.1184 - dense_3_acc_6: 0.0102 - dense_3_acc_7: 0.8555 - dense_3_acc_8: 0.0643 - dense_3_acc_9: 0.04 - ETA: 15s - loss: 20.6616 - dense_3_loss: 2.7642 - dense_3_acc: 0.0444 - dense_3_acc_1: 0.4271 - dense_3_acc_2: 0.1664 - dense_3_acc_3: 0.0593 - dense_3_acc_4: 0.7696 - dense_3_acc_5: 0.1158 - dense_3_acc_6: 0.0100 - dense_3_acc_7: 0.8587 - dense_3_acc_8: 0.0693 - dense_3_acc_9: 0.04 - ETA: 14s - loss: 20.6204 - dense_3_loss: 2.7636 - dense_3_acc: 0.0559 - dense_3_acc_1: 0.4302 - dense_3_acc_2: 0.1683 - dense_3_acc_3: 0.0598 - dense_3_acc_4: 0.7746 - dense_3_acc_5: 0.1133 - dense_3_acc_6: 0.0098 - dense_3_acc_7: 0.8617 - dense_3_acc_8: 0.0741 - dense_3_acc_9: 0.05 - ETA: 14s - loss: 20.5733 - dense_3_loss: 2.7621 - dense_3_acc: 0.0679 - dense_3_acc_1: 0.4343 - dense_3_acc_2: 0.1698 - dense_3_acc_3: 0.0613 - dense_3_acc_4: 0.7794 - dense_3_acc_5: 0.1109 - dense_3_acc_6: 0.0096 - dense_3_acc_7: 0.8647 - dense_3_acc_8: 0.0747 - dense_3_acc_9: 0.05 - ETA: 13s - loss: 20.5281 - dense_3_loss: 2.7625 - dense_3_acc: 0.0815 - dense_3_acc_1: 0.4402 - dense_3_acc_2: 0.1721 - dense_3_acc_3: 0.0617 - dense_3_acc_4: 0.7840 - dense_3_acc_5: 0.1085 - dense_3_acc_6: 0.0094 - dense_3_acc_7: 0.8675 - dense_3_acc_8: 0.0763 - dense_3_acc_9: 0.05 - ETA: 13s - loss: 20.4849 - dense_3_loss: 2.7618 - dense_3_acc: 0.0916 - dense_3_acc_1: 0.4431 - dense_3_acc_2: 0.1729 - dense_3_acc_3: 0.0616 - dense_3_acc_4: 0.7884 - dense_3_acc_5: 0.1063 - dense_3_acc_6: 0.0092 - dense_3_acc_7: 0.8688 - dense_3_acc_8: 0.0804 - dense_3_acc_9: 0.05 - ETA: 12s - loss: 20.4375 - dense_3_loss: 2.7616 - dense_3_acc: 0.1034 - dense_3_acc_1: 0.4478 - dense_3_acc_2: 0.1728 - dense_3_acc_3: 0.0604 - dense_3_acc_4: 0.7926 - dense_3_acc_5: 0.1042 - dense_3_acc_6: 0.0090 - dense_3_acc_7: 0.8714 - dense_3_acc_8: 0.0836 - dense_3_acc_9: 0.05 - ETA: 12s - loss: 20.3865 - dense_3_loss: 2.7598 - dense_3_acc: 0.1151 - dense_3_acc_1: 0.4527 - dense_3_acc_2: 0.1749 - dense_3_acc_3: 0.0600 - dense_3_acc_4: 0.7967 - dense_3_acc_5: 0.1022 - dense_3_acc_6: 0.0088 - dense_3_acc_7: 0.8739 - dense_3_acc_8: 0.0835 - dense_3_acc_9: 0.05 - ETA: 11s - loss: 20.3390 - dense_3_loss: 2.7599 - dense_3_acc: 0.1248 - dense_3_acc_1: 0.4560 - dense_3_acc_2: 0.1748 - dense_3_acc_3: 0.0598 - dense_3_acc_4: 0.8006 - dense_3_acc_5: 0.1002 - dense_3_acc_6: 0.0087 - dense_3_acc_7: 0.8762 - dense_3_acc_8: 0.0850 - dense_3_acc_9: 0.05 - ETA: 11s - loss: 20.2916 - dense_3_loss: 2.7576 - dense_3_acc: 0.1340 - dense_3_acc_1: 0.4589 - dense_3_acc_2: 0.1755 - dense_3_acc_3: 0.0596 - dense_3_acc_4: 0.8043 - dense_3_acc_5: 0.0983 - dense_3_acc_6: 0.0085 - dense_3_acc_7: 0.8757 - dense_3_acc_8: 0.0889 - dense_3_acc_9: 0.05 - ETA: 11s - loss: 20.2454 - dense_3_loss: 2.7563 - dense_3_acc: 0.1419 - dense_3_acc_1: 0.4607 - dense_3_acc_2: 0.1748 - dense_3_acc_3: 0.0607 - dense_3_acc_4: 0.8080 - dense_3_acc_5: 0.0965 - dense_3_acc_6: 0.0083 - dense_3_acc_7: 0.8780 - dense_3_acc_8: 0.0883 - dense_3_acc_9: 0.06 - ETA: 10s - loss: 20.1933 - dense_3_loss: 2.7549 - dense_3_acc: 0.1513 - dense_3_acc_1: 0.4644 - dense_3_acc_2: 0.1762 - dense_3_acc_3: 0.0598 - dense_3_acc_4: 0.8115 - dense_3_acc_5: 0.0947 - dense_3_acc_6: 0.0082 - dense_3_acc_7: 0.8800 - dense_3_acc_8: 0.0918 - dense_3_acc_9: 0.06 - ETA: 10s - loss: 20.1366 - dense_3_loss: 2.7523 - dense_3_acc: 0.1609 - dense_3_acc_1: 0.4684 - dense_3_acc_2: 0.1771 - dense_3_acc_3: 0.0587 - dense_3_acc_4: 0.8148 - dense_3_acc_5: 0.0930 - dense_3_acc_6: 0.0080 - dense_3_acc_7: 0.8821 - dense_3_acc_8: 0.0959 - dense_3_acc_9: 0.06 - ETA: 9s - loss: 20.0821 - dense_3_loss: 2.7506 - dense_3_acc: 0.1700 - dense_3_acc_1: 0.4721 - dense_3_acc_2: 0.1781 - dense_3_acc_3: 0.0589 - dense_3_acc_4: 0.8181 - dense_3_acc_5: 0.0914 - dense_3_acc_6: 0.0079 - dense_3_acc_7: 0.8842 - dense_3_acc_8: 0.0949 - dense_3_acc_9: 0.0639 "
     ]
    },
    {
     "name": "stdout",
     "output_type": "stream",
     "text": [
      " 8600/10000 [========================>.....] - ETA: 9s - loss: 20.0264 - dense_3_loss: 2.7482 - dense_3_acc: 0.1781 - dense_3_acc_1: 0.4750 - dense_3_acc_2: 0.1772 - dense_3_acc_3: 0.0584 - dense_3_acc_4: 0.8212 - dense_3_acc_5: 0.0900 - dense_3_acc_6: 0.0086 - dense_3_acc_7: 0.8833 - dense_3_acc_8: 0.0997 - dense_3_acc_9: 0.064 - ETA: 9s - loss: 19.9726 - dense_3_loss: 2.7446 - dense_3_acc: 0.1844 - dense_3_acc_1: 0.4763 - dense_3_acc_2: 0.1778 - dense_3_acc_3: 0.0581 - dense_3_acc_4: 0.8242 - dense_3_acc_5: 0.0893 - dense_3_acc_6: 0.0090 - dense_3_acc_7: 0.8839 - dense_3_acc_8: 0.1032 - dense_3_acc_9: 0.065 - ETA: 8s - loss: 19.9162 - dense_3_loss: 2.7415 - dense_3_acc: 0.1900 - dense_3_acc_1: 0.4770 - dense_3_acc_2: 0.1782 - dense_3_acc_3: 0.0580 - dense_3_acc_4: 0.8272 - dense_3_acc_5: 0.0878 - dense_3_acc_6: 0.0090 - dense_3_acc_7: 0.8858 - dense_3_acc_8: 0.1027 - dense_3_acc_9: 0.067 - ETA: 8s - loss: 19.8532 - dense_3_loss: 2.7369 - dense_3_acc: 0.1966 - dense_3_acc_1: 0.4789 - dense_3_acc_2: 0.1830 - dense_3_acc_3: 0.0570 - dense_3_acc_4: 0.8300 - dense_3_acc_5: 0.0939 - dense_3_acc_6: 0.0089 - dense_3_acc_7: 0.8877 - dense_3_acc_8: 0.1061 - dense_3_acc_9: 0.068 - ETA: 8s - loss: 19.7964 - dense_3_loss: 2.7336 - dense_3_acc: 0.2016 - dense_3_acc_1: 0.4794 - dense_3_acc_2: 0.1856 - dense_3_acc_3: 0.0566 - dense_3_acc_4: 0.8327 - dense_3_acc_5: 0.1055 - dense_3_acc_6: 0.0094 - dense_3_acc_7: 0.8895 - dense_3_acc_8: 0.1084 - dense_3_acc_9: 0.069 - ETA: 7s - loss: 19.7358 - dense_3_loss: 2.7315 - dense_3_acc: 0.2079 - dense_3_acc_1: 0.4813 - dense_3_acc_2: 0.1894 - dense_3_acc_3: 0.0570 - dense_3_acc_4: 0.8354 - dense_3_acc_5: 0.1171 - dense_3_acc_6: 0.0100 - dense_3_acc_7: 0.8913 - dense_3_acc_8: 0.1124 - dense_3_acc_9: 0.069 - ETA: 7s - loss: 19.6748 - dense_3_loss: 2.7290 - dense_3_acc: 0.2142 - dense_3_acc_1: 0.4833 - dense_3_acc_2: 0.1906 - dense_3_acc_3: 0.0564 - dense_3_acc_4: 0.8380 - dense_3_acc_5: 0.1284 - dense_3_acc_6: 0.0114 - dense_3_acc_7: 0.8928 - dense_3_acc_8: 0.1163 - dense_3_acc_9: 0.069 - ETA: 7s - loss: 19.6072 - dense_3_loss: 2.7276 - dense_3_acc: 0.2211 - dense_3_acc_1: 0.4860 - dense_3_acc_2: 0.1931 - dense_3_acc_3: 0.0569 - dense_3_acc_4: 0.8405 - dense_3_acc_5: 0.1395 - dense_3_acc_6: 0.0128 - dense_3_acc_7: 0.8945 - dense_3_acc_8: 0.1191 - dense_3_acc_9: 0.070 - ETA: 7s - loss: 19.5360 - dense_3_loss: 2.7212 - dense_3_acc: 0.2273 - dense_3_acc_1: 0.4882 - dense_3_acc_2: 0.1952 - dense_3_acc_3: 0.0561 - dense_3_acc_4: 0.8429 - dense_3_acc_5: 0.1497 - dense_3_acc_6: 0.0130 - dense_3_acc_7: 0.8961 - dense_3_acc_8: 0.1227 - dense_3_acc_9: 0.070 - ETA: 6s - loss: 19.4668 - dense_3_loss: 2.7149 - dense_3_acc: 0.2327 - dense_3_acc_1: 0.4897 - dense_3_acc_2: 0.1976 - dense_3_acc_3: 0.0552 - dense_3_acc_4: 0.8452 - dense_3_acc_5: 0.1601 - dense_3_acc_6: 0.0137 - dense_3_acc_7: 0.8976 - dense_3_acc_8: 0.1261 - dense_3_acc_9: 0.072 - ETA: 6s - loss: 19.3979 - dense_3_loss: 2.7130 - dense_3_acc: 0.2387 - dense_3_acc_1: 0.4919 - dense_3_acc_2: 0.1987 - dense_3_acc_3: 0.0553 - dense_3_acc_4: 0.8475 - dense_3_acc_5: 0.1703 - dense_3_acc_6: 0.0146 - dense_3_acc_7: 0.8991 - dense_3_acc_8: 0.1303 - dense_3_acc_9: 0.072 - ETA: 6s - loss: 19.3269 - dense_3_loss: 2.7088 - dense_3_acc: 0.2433 - dense_3_acc_1: 0.4929 - dense_3_acc_2: 0.1994 - dense_3_acc_3: 0.0545 - dense_3_acc_4: 0.8497 - dense_3_acc_5: 0.1809 - dense_3_acc_6: 0.0154 - dense_3_acc_7: 0.9006 - dense_3_acc_8: 0.1355 - dense_3_acc_9: 0.072 - ETA: 6s - loss: 19.2542 - dense_3_loss: 2.7033 - dense_3_acc: 0.2481 - dense_3_acc_1: 0.4941 - dense_3_acc_2: 0.2017 - dense_3_acc_3: 0.0537 - dense_3_acc_4: 0.8519 - dense_3_acc_5: 0.1907 - dense_3_acc_6: 0.0163 - dense_3_acc_7: 0.9020 - dense_3_acc_8: 0.1384 - dense_3_acc_9: 0.074 - ETA: 5s - loss: 19.1808 - dense_3_loss: 2.6994 - dense_3_acc: 0.2527 - dense_3_acc_1: 0.4952 - dense_3_acc_2: 0.2025 - dense_3_acc_3: 0.0539 - dense_3_acc_4: 0.8539 - dense_3_acc_5: 0.1985 - dense_3_acc_6: 0.0175 - dense_3_acc_7: 0.9034 - dense_3_acc_8: 0.1432 - dense_3_acc_9: 0.074 - ETA: 5s - loss: 19.1071 - dense_3_loss: 2.6947 - dense_3_acc: 0.2579 - dense_3_acc_1: 0.4971 - dense_3_acc_2: 0.2039 - dense_3_acc_3: 0.0539 - dense_3_acc_4: 0.8560 - dense_3_acc_5: 0.2072 - dense_3_acc_6: 0.0181 - dense_3_acc_7: 0.9047 - dense_3_acc_8: 0.1467 - dense_3_acc_9: 0.074 - ETA: 5s - loss: 19.0293 - dense_3_loss: 2.6900 - dense_3_acc: 0.2627 - dense_3_acc_1: 0.4986 - dense_3_acc_2: 0.2053 - dense_3_acc_3: 0.0538 - dense_3_acc_4: 0.8579 - dense_3_acc_5: 0.2163 - dense_3_acc_6: 0.0190 - dense_3_acc_7: 0.9060 - dense_3_acc_8: 0.1504 - dense_3_acc_9: 0.074 - ETA: 5s - loss: 18.9511 - dense_3_loss: 2.6844 - dense_3_acc: 0.2676 - dense_3_acc_1: 0.5004 - dense_3_acc_2: 0.2069 - dense_3_acc_3: 0.0536 - dense_3_acc_4: 0.8599 - dense_3_acc_5: 0.2247 - dense_3_acc_6: 0.0197 - dense_3_acc_7: 0.9073 - dense_3_acc_8: 0.1546 - dense_3_acc_9: 0.075 - ETA: 4s - loss: 18.8714 - dense_3_loss: 2.6796 - dense_3_acc: 0.2725 - dense_3_acc_1: 0.5023 - dense_3_acc_2: 0.2091 - dense_3_acc_3: 0.0551 - dense_3_acc_4: 0.8617 - dense_3_acc_5: 0.2328 - dense_3_acc_6: 0.0213 - dense_3_acc_7: 0.9085 - dense_3_acc_8: 0.1576 - dense_3_acc_9: 0.075 - ETA: 4s - loss: 18.7956 - dense_3_loss: 2.6744 - dense_3_acc: 0.2759 - dense_3_acc_1: 0.5028 - dense_3_acc_2: 0.2095 - dense_3_acc_3: 0.0570 - dense_3_acc_4: 0.8636 - dense_3_acc_5: 0.2413 - dense_3_acc_6: 0.0221 - dense_3_acc_7: 0.9097 - dense_3_acc_8: 0.1607 - dense_3_acc_9: 0.076 - ETA: 4s - loss: 18.7159 - dense_3_loss: 2.6698 - dense_3_acc: 0.2804 - dense_3_acc_1: 0.5047 - dense_3_acc_2: 0.2121 - dense_3_acc_3: 0.0578 - dense_3_acc_4: 0.8653 - dense_3_acc_5: 0.2484 - dense_3_acc_6: 0.0231 - dense_3_acc_7: 0.9109 - dense_3_acc_8: 0.1643 - dense_3_acc_9: 0.077 - ETA: 4s - loss: 18.6388 - dense_3_loss: 2.6650 - dense_3_acc: 0.2845 - dense_3_acc_1: 0.5071 - dense_3_acc_2: 0.2146 - dense_3_acc_3: 0.0578 - dense_3_acc_4: 0.8671 - dense_3_acc_5: 0.2559 - dense_3_acc_6: 0.0233 - dense_3_acc_7: 0.9121 - dense_3_acc_8: 0.1667 - dense_3_acc_9: 0.077 - ETA: 3s - loss: 18.5607 - dense_3_loss: 2.6605 - dense_3_acc: 0.2880 - dense_3_acc_1: 0.5095 - dense_3_acc_2: 0.2167 - dense_3_acc_3: 0.0581 - dense_3_acc_4: 0.8687 - dense_3_acc_5: 0.2634 - dense_3_acc_6: 0.0242 - dense_3_acc_7: 0.9132 - dense_3_acc_8: 0.1697 - dense_3_acc_9: 0.078 - ETA: 3s - loss: 18.4836 - dense_3_loss: 2.6561 - dense_3_acc: 0.2915 - dense_3_acc_1: 0.5116 - dense_3_acc_2: 0.2190 - dense_3_acc_3: 0.0586 - dense_3_acc_4: 0.8704 - dense_3_acc_5: 0.2708 - dense_3_acc_6: 0.0255 - dense_3_acc_7: 0.9143 - dense_3_acc_8: 0.1720 - dense_3_acc_9: 0.078 - ETA: 3s - loss: 18.4084 - dense_3_loss: 2.6520 - dense_3_acc: 0.2964 - dense_3_acc_1: 0.5156 - dense_3_acc_2: 0.2207 - dense_3_acc_3: 0.0591 - dense_3_acc_4: 0.8720 - dense_3_acc_5: 0.2774 - dense_3_acc_6: 0.0272 - dense_3_acc_7: 0.9153 - dense_3_acc_8: 0.1746 - dense_3_acc_9: 0.079 - ETA: 3s - loss: 18.3317 - dense_3_loss: 2.6478 - dense_3_acc: 0.2998 - dense_3_acc_1: 0.5176 - dense_3_acc_2: 0.2232 - dense_3_acc_3: 0.0600 - dense_3_acc_4: 0.8735 - dense_3_acc_5: 0.2846 - dense_3_acc_6: 0.0280 - dense_3_acc_7: 0.9163 - dense_3_acc_8: 0.1777 - dense_3_acc_9: 0.080 - ETA: 3s - loss: 18.2558 - dense_3_loss: 2.6435 - dense_3_acc: 0.3040 - dense_3_acc_1: 0.5201 - dense_3_acc_2: 0.2247 - dense_3_acc_3: 0.0606 - dense_3_acc_4: 0.8751 - dense_3_acc_5: 0.2913 - dense_3_acc_6: 0.0292 - dense_3_acc_7: 0.9173 - dense_3_acc_8: 0.1801 - dense_3_acc_9: 0.080 - ETA: 2s - loss: 18.1835 - dense_3_loss: 2.6392 - dense_3_acc: 0.3075 - dense_3_acc_1: 0.5218 - dense_3_acc_2: 0.2251 - dense_3_acc_3: 0.0612 - dense_3_acc_4: 0.8765 - dense_3_acc_5: 0.2974 - dense_3_acc_6: 0.0310 - dense_3_acc_7: 0.9183 - dense_3_acc_8: 0.1835 - dense_3_acc_9: 0.081 - ETA: 2s - loss: 18.1092 - dense_3_loss: 2.6348 - dense_3_acc: 0.3113 - dense_3_acc_1: 0.5242 - dense_3_acc_2: 0.2267 - dense_3_acc_3: 0.0618 - dense_3_acc_4: 0.8780 - dense_3_acc_5: 0.3039 - dense_3_acc_6: 0.0320 - dense_3_acc_7: 0.9193 - dense_3_acc_8: 0.1859 - dense_3_acc_9: 0.082 - ETA: 2s - loss: 18.0346 - dense_3_loss: 2.6303 - dense_3_acc: 0.3150 - dense_3_acc_1: 0.5279 - dense_3_acc_2: 0.2283 - dense_3_acc_3: 0.0634 - dense_3_acc_4: 0.8794 - dense_3_acc_5: 0.3106 - dense_3_acc_6: 0.0338 - dense_3_acc_7: 0.9202 - dense_3_acc_8: 0.1881 - dense_3_acc_9: 0.0829"
     ]
    },
    {
     "name": "stdout",
     "output_type": "stream",
     "text": [
      "10000/10000 [==============================] - ETA: 2s - loss: 17.9622 - dense_3_loss: 2.6256 - dense_3_acc: 0.3177 - dense_3_acc_1: 0.5313 - dense_3_acc_2: 0.2301 - dense_3_acc_3: 0.0639 - dense_3_acc_4: 0.8808 - dense_3_acc_5: 0.3164 - dense_3_acc_6: 0.0354 - dense_3_acc_7: 0.9211 - dense_3_acc_8: 0.1913 - dense_3_acc_9: 0.084 - ETA: 2s - loss: 17.8907 - dense_3_loss: 2.6213 - dense_3_acc: 0.3215 - dense_3_acc_1: 0.5345 - dense_3_acc_2: 0.2307 - dense_3_acc_3: 0.0653 - dense_3_acc_4: 0.8822 - dense_3_acc_5: 0.3226 - dense_3_acc_6: 0.0366 - dense_3_acc_7: 0.9220 - dense_3_acc_8: 0.1930 - dense_3_acc_9: 0.085 - ETA: 1s - loss: 17.8199 - dense_3_loss: 2.6174 - dense_3_acc: 0.3247 - dense_3_acc_1: 0.5375 - dense_3_acc_2: 0.2317 - dense_3_acc_3: 0.0658 - dense_3_acc_4: 0.8835 - dense_3_acc_5: 0.3288 - dense_3_acc_6: 0.0385 - dense_3_acc_7: 0.9229 - dense_3_acc_8: 0.1949 - dense_3_acc_9: 0.086 - ETA: 1s - loss: 17.7526 - dense_3_loss: 2.6134 - dense_3_acc: 0.3280 - dense_3_acc_1: 0.5401 - dense_3_acc_2: 0.2341 - dense_3_acc_3: 0.0662 - dense_3_acc_4: 0.8848 - dense_3_acc_5: 0.3348 - dense_3_acc_6: 0.0403 - dense_3_acc_7: 0.9238 - dense_3_acc_8: 0.1967 - dense_3_acc_9: 0.087 - ETA: 1s - loss: 17.6840 - dense_3_loss: 2.6105 - dense_3_acc: 0.3313 - dense_3_acc_1: 0.5429 - dense_3_acc_2: 0.2364 - dense_3_acc_3: 0.0665 - dense_3_acc_4: 0.8860 - dense_3_acc_5: 0.3409 - dense_3_acc_6: 0.0425 - dense_3_acc_7: 0.9246 - dense_3_acc_8: 0.1996 - dense_3_acc_9: 0.088 - ETA: 1s - loss: 17.6146 - dense_3_loss: 2.6059 - dense_3_acc: 0.3350 - dense_3_acc_1: 0.5464 - dense_3_acc_2: 0.2376 - dense_3_acc_3: 0.0680 - dense_3_acc_4: 0.8873 - dense_3_acc_5: 0.3459 - dense_3_acc_6: 0.0458 - dense_3_acc_7: 0.9254 - dense_3_acc_8: 0.2016 - dense_3_acc_9: 0.089 - ETA: 1s - loss: 17.5451 - dense_3_loss: 2.6018 - dense_3_acc: 0.3376 - dense_3_acc_1: 0.5488 - dense_3_acc_2: 0.2390 - dense_3_acc_3: 0.0686 - dense_3_acc_4: 0.8885 - dense_3_acc_5: 0.3511 - dense_3_acc_6: 0.0489 - dense_3_acc_7: 0.9262 - dense_3_acc_8: 0.2038 - dense_3_acc_9: 0.091 - ETA: 1s - loss: 17.4791 - dense_3_loss: 2.5979 - dense_3_acc: 0.3395 - dense_3_acc_1: 0.5517 - dense_3_acc_2: 0.2407 - dense_3_acc_3: 0.0691 - dense_3_acc_4: 0.8897 - dense_3_acc_5: 0.3565 - dense_3_acc_6: 0.0509 - dense_3_acc_7: 0.9270 - dense_3_acc_8: 0.2057 - dense_3_acc_9: 0.091 - ETA: 0s - loss: 17.4125 - dense_3_loss: 2.5947 - dense_3_acc: 0.3423 - dense_3_acc_1: 0.5549 - dense_3_acc_2: 0.2427 - dense_3_acc_3: 0.0698 - dense_3_acc_4: 0.8908 - dense_3_acc_5: 0.3621 - dense_3_acc_6: 0.0528 - dense_3_acc_7: 0.9278 - dense_3_acc_8: 0.2076 - dense_3_acc_9: 0.092 - ETA: 0s - loss: 17.3446 - dense_3_loss: 2.5906 - dense_3_acc: 0.3451 - dense_3_acc_1: 0.5578 - dense_3_acc_2: 0.2449 - dense_3_acc_3: 0.0710 - dense_3_acc_4: 0.8920 - dense_3_acc_5: 0.3679 - dense_3_acc_6: 0.0553 - dense_3_acc_7: 0.9285 - dense_3_acc_8: 0.2102 - dense_3_acc_9: 0.093 - ETA: 0s - loss: 17.2798 - dense_3_loss: 2.5866 - dense_3_acc: 0.3482 - dense_3_acc_1: 0.5608 - dense_3_acc_2: 0.2468 - dense_3_acc_3: 0.0713 - dense_3_acc_4: 0.8931 - dense_3_acc_5: 0.3733 - dense_3_acc_6: 0.0570 - dense_3_acc_7: 0.9293 - dense_3_acc_8: 0.2124 - dense_3_acc_9: 0.094 - ETA: 0s - loss: 17.2135 - dense_3_loss: 2.5820 - dense_3_acc: 0.3514 - dense_3_acc_1: 0.5645 - dense_3_acc_2: 0.2490 - dense_3_acc_3: 0.0720 - dense_3_acc_4: 0.8942 - dense_3_acc_5: 0.3781 - dense_3_acc_6: 0.0589 - dense_3_acc_7: 0.9300 - dense_3_acc_8: 0.2147 - dense_3_acc_9: 0.096 - ETA: 0s - loss: 17.1494 - dense_3_loss: 2.5789 - dense_3_acc: 0.3540 - dense_3_acc_1: 0.5675 - dense_3_acc_2: 0.2512 - dense_3_acc_3: 0.0728 - dense_3_acc_4: 0.8953 - dense_3_acc_5: 0.3829 - dense_3_acc_6: 0.0602 - dense_3_acc_7: 0.9307 - dense_3_acc_8: 0.2176 - dense_3_acc_9: 0.097 - 16s 2ms/step - loss: 17.0833 - dense_3_loss: 2.5755 - dense_3_acc: 0.3568 - dense_3_acc_1: 0.5711 - dense_3_acc_2: 0.2530 - dense_3_acc_3: 0.0732 - dense_3_acc_4: 0.8963 - dense_3_acc_5: 0.3879 - dense_3_acc_6: 0.0629 - dense_3_acc_7: 0.9314 - dense_3_acc_8: 0.2191 - dense_3_acc_9: 0.0981\n"
     ]
    },
    {
     "data": {
      "text/plain": [
       "<keras.callbacks.History at 0x2557329b7f0>"
      ]
     },
     "execution_count": 14,
     "metadata": {},
     "output_type": "execute_result"
    }
   ],
   "source": [
    "# Fit model\n",
    "model.fit([Xoh, s0, c0], outputs, epochs=1, batch_size=100)"
   ]
  },
  {
   "cell_type": "code",
   "execution_count": 44,
   "metadata": {},
   "outputs": [],
   "source": [
    "# Load model that was trained longer\n",
    "model.load_weights('models/model.h5')"
   ]
  },
  {
   "cell_type": "code",
   "execution_count": 45,
   "metadata": {},
   "outputs": [
    {
     "name": "stdout",
     "output_type": "stream",
     "text": [
      "source: 3 May 1979\n",
      "output: 1979-05-03\n",
      "source: 5 April 09\n",
      "output: 2009-05-05\n",
      "source: 21th of August 2016\n",
      "output: 2016-08-21\n",
      "source: Tue 10 Jul 2007\n",
      "output: 2007-07-10\n",
      "source: Saturday May 9 2018\n",
      "output: 2018-05-09\n",
      "source: March 3 2001\n",
      "output: 2001-03-03\n",
      "source: March 3rd 2001\n",
      "output: 2001-03-03\n",
      "source: 1 March 2001\n",
      "output: 2001-03-01\n"
     ]
    }
   ],
   "source": [
    "EXAMPLES = ['3 May 1979', '5 April 09', '21th of August 2016', 'Tue 10 Jul 2007', 'Saturday May 9 2018', 'March 3 2001', 'March 3rd 2001', '1 March 2001']\n",
    "for example in EXAMPLES:\n",
    "    \n",
    "    source = string_to_int(example, Tx, human_vocab)\n",
    "    source = np.array(list(map(lambda x: to_categorical(x, num_classes=len(human_vocab)), source)))[np.newaxis,...]\n",
    "    prediction = model.predict([source, s0, c0])\n",
    "    prediction = np.argmax(prediction, axis = -1)\n",
    "    output = [inv_machine_vocab[int(i)] for i in prediction]\n",
    "    \n",
    "    print(\"source:\", example)\n",
    "    print(\"output:\", ''.join(output))\n"
   ]
  },
  {
   "cell_type": "code",
   "execution_count": 46,
   "metadata": {},
   "outputs": [
    {
     "data": {
      "text/plain": [
       "<Figure size 432x288 with 0 Axes>"
      ]
     },
     "metadata": {},
     "output_type": "display_data"
    },
    {
     "data": {
      "image/png": "[encoded data removed]",
      "text/plain": [
       "<Figure size 576x612 with 2 Axes>"
      ]
     },
     "metadata": {
      "needs_background": "light"
     },
     "output_type": "display_data"
    }
   ],
   "source": [
    "attention_map = plot_attention_map(model, human_vocab, inv_machine_vocab, \"Tuesday 09 Oct 1993\", num = 7, n_s = 64)"
   ]
  },
  {
   "cell_type": "code",
   "execution_count": null,
   "metadata": {},
   "outputs": [],
   "source": []
  }
 ],
 "metadata": {
  "kernelspec": {
   "display_name": "Python 3",
   "language": "python",
   "name": "python3"
  },
  "language_info": {
   "codemirror_mode": {
    "name": "ipython",
    "version": 3
   },
   "file_extension": ".py",
   "mimetype": "text/x-python",
   "name": "python",
   "nbconvert_exporter": "python",
   "pygments_lexer": "ipython3",
   "version": "3.6.6"
  }
 },
 "nbformat": 4,
 "nbformat_minor": 2
}
